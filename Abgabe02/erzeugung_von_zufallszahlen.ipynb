{
 "cells": [
  {
   "cell_type": "markdown",
   "source": [
    "# Erzeugung von Zufallszahlen\n",
    "## 1. Klausurwürfel von Professorin Müller und Professor Schmidt"
   ],
   "metadata": {
    "collapsed": false
   }
  },
  {
   "cell_type": "code",
   "execution_count": 2,
   "outputs": [],
   "source": [
    "import numpy as np\n",
    "import matplotlib.pyplot as plt\n",
    "import seaborn as sns\n",
    "\n",
    "sns.set_theme(style=\"darkgrid\")"
   ],
   "metadata": {
    "collapsed": false,
    "pycharm": {
     "name": "#%%\n"
    }
   }
  },
  {
   "cell_type": "code",
   "execution_count": 31,
   "outputs": [],
   "source": [
    "def throw_dice(dice, n=1):\n",
    "    dice_values = list(dice.keys())\n",
    "    probabilities = list(dice.values())\n",
    "\n",
    "    dice_throws = []\n",
    "\n",
    "    for i in np.random.uniform(0, 1, n):\n",
    "        dice_throws.append(dice_values[np.argmax(np.cumsum(probabilities) >= i)])\n",
    "\n",
    "    return dice_throws"
   ],
   "metadata": {
    "collapsed": false,
    "pycharm": {
     "name": "#%%\n"
    }
   }
  },
  {
   "cell_type": "code",
   "execution_count": 123,
   "outputs": [
    {
     "data": {
      "text/plain": "<Figure size 864x432 with 2 Axes>",
      "image/png": "[encoded data removed]"
     },
     "metadata": {},
     "output_type": "display_data"
    }
   ],
   "source": [
    "schmidt_dice = {\n",
    "    1: 2/6,\n",
    "    2: 3/6,\n",
    "    3: 1/6,\n",
    "    4: 0,\n",
    "    5: 0\n",
    "}\n",
    "\n",
    "mueller_dice = {\n",
    "    1: 0,\n",
    "    2: 1/6,\n",
    "    3: 2/6,\n",
    "    4: 2/6,\n",
    "    5: 1/6\n",
    "}\n",
    "\n",
    "number_of_throws = 100000\n",
    "\n",
    "f = plt.figure(figsize=(12, 6))\n",
    "gs = f.add_gridspec(1, 2)\n",
    "\n",
    "# Schmidt simulation\n",
    "schmidt_simulation = throw_dice(dice=schmidt_dice, n=number_of_throws)\n",
    "\n",
    "ax = f.add_subplot(gs[0, 0])\n",
    "hist = sns.histplot(x=schmidt_simulation, stat='probability', ax=ax, discrete=True)\n",
    "hist.set(ylabel=\"Wahrscheinlichkeit\", xlabel=\"Note\", title=\"Prof. Schmidts Klausurwürfel\",\n",
    "         xlim=(0.25, max(schmidt_dice.keys())+0.75), ylim=(0,1))\n",
    "\n",
    "# Mueller simulation\n",
    "mueller_simulation = throw_dice(dice=mueller_dice, n=number_of_throws)\n",
    "\n",
    "ax = f.add_subplot(gs[0, 1])\n",
    "hist = sns.histplot(x=mueller_simulation, stat='probability', ax=ax, discrete=True)\n",
    "hist.set(ylabel=\"\", xlabel=\"Note\", title=\"Prof. Müllers Klausurwürfel\",\n",
    "         xlim=(0.25, max(mueller_dice.keys())+0.75), ylim=(0,1))\n",
    "\n",
    "plt.show()"
   ],
   "metadata": {
    "collapsed": false,
    "pycharm": {
     "name": "#%%\n"
    }
   }
  },
  {
   "cell_type": "code",
   "execution_count": null,
   "outputs": [],
   "source": [],
   "metadata": {
    "collapsed": false,
    "pycharm": {
     "name": "#%%\n"
    }
   }
  }
 ],
 "metadata": {
  "kernelspec": {
   "display_name": "Python 3",
   "language": "python",
   "name": "python3"
  },
  "language_info": {
   "codemirror_mode": {
    "name": "ipython",
    "version": 2
   },
   "file_extension": ".py",
   "mimetype": "text/x-python",
   "name": "python",
   "nbconvert_exporter": "python",
   "pygments_lexer": "ipython2",
   "version": "2.7.6"
  }
 },
 "nbformat": 4,
 "nbformat_minor": 0
}