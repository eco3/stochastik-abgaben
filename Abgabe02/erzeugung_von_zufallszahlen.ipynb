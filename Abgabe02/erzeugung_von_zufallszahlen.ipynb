{
 "cells": [
  {
   "cell_type": "markdown",
   "source": [
    "# Erzeugung von Zufallszahlen\n",
    "## 1. Klausurwürfel von Professorin Müller und Professor Schmidt"
   ],
   "metadata": {
    "collapsed": false
   }
  },
  {
   "cell_type": "code",
   "execution_count": 1,
   "outputs": [],
   "source": [
    "import numpy as np\n",
    "import matplotlib.pyplot as plt\n",
    "import seaborn as sns\n",
    "import pandas as pd\n",
    "\n",
    "sns.set_theme(style=\"darkgrid\")"
   ],
   "metadata": {
    "collapsed": false,
    "pycharm": {
     "name": "#%%\n"
    }
   }
  },
  {
   "cell_type": "code",
   "execution_count": 2,
   "outputs": [],
   "source": [
    "def throw_dice(dice, n=1):\n",
    "    dice_values = list(dice.keys())\n",
    "    probabilities = list(dice.values())\n",
    "\n",
    "    dice_throws = []\n",
    "\n",
    "    for i in np.random.uniform(0, 1, n):\n",
    "        dice_throws.append(dice_values[np.argmax(np.cumsum(probabilities) >= i)])\n",
    "\n",
    "    return dice_throws"
   ],
   "metadata": {
    "collapsed": false,
    "pycharm": {
     "name": "#%%\n"
    }
   }
  },
  {
   "cell_type": "code",
   "execution_count": 3,
   "outputs": [],
   "source": [
    "schmidt_dice = {\n",
    "    1: 2/6,\n",
    "    2: 3/6,\n",
    "    3: 1/6,\n",
    "    4: 0,\n",
    "    5: 0\n",
    "}\n",
    "\n",
    "mueller_dice = {\n",
    "    1: 0,\n",
    "    2: 1/6,\n",
    "    3: 2/6,\n",
    "    4: 2/6,\n",
    "    5: 1/6\n",
    "}\n",
    "\n",
    "number_of_throws = 100000\n",
    "\n",
    "mueller_simulation = np.sort(throw_dice(dice=mueller_dice, n=number_of_throws))\n",
    "schmidt_simulation = np.sort(throw_dice(dice=schmidt_dice, n=number_of_throws))"
   ],
   "metadata": {
    "collapsed": false,
    "pycharm": {
     "name": "#%%\n"
    }
   }
  },
  {
   "cell_type": "markdown",
   "source": [
    "### Professorin Schmidts Würfel"
   ],
   "metadata": {
    "collapsed": false
   }
  },
  {
   "cell_type": "code",
   "execution_count": 4,
   "outputs": [
    {
     "data": {
      "text/plain": "                   0\ncount  100000.000000\nmean        1.833600\nstd         0.685956\nmin         1.000000\n25%         1.000000\n50%         2.000000\n75%         2.000000\nmax         3.000000",
      "text/html": "<div>\n<style scoped>\n    .dataframe tbody tr th:only-of-type {\n        vertical-align: middle;\n    }\n\n    .dataframe tbody tr th {\n        vertical-align: top;\n    }\n\n    .dataframe thead th {\n        text-align: right;\n    }\n</style>\n<table border=\"1\" class=\"dataframe\">\n  <thead>\n    <tr style=\"text-align: right;\">\n      <th></th>\n      <th>0</th>\n    </tr>\n  </thead>\n  <tbody>\n    <tr>\n      <th>count</th>\n      <td>100000.000000</td>\n    </tr>\n    <tr>\n      <th>mean</th>\n      <td>1.833600</td>\n    </tr>\n    <tr>\n      <th>std</th>\n      <td>0.685956</td>\n    </tr>\n    <tr>\n      <th>min</th>\n      <td>1.000000</td>\n    </tr>\n    <tr>\n      <th>25%</th>\n      <td>1.000000</td>\n    </tr>\n    <tr>\n      <th>50%</th>\n      <td>2.000000</td>\n    </tr>\n    <tr>\n      <th>75%</th>\n      <td>2.000000</td>\n    </tr>\n    <tr>\n      <th>max</th>\n      <td>3.000000</td>\n    </tr>\n  </tbody>\n</table>\n</div>"
     },
     "execution_count": 4,
     "metadata": {},
     "output_type": "execute_result"
    }
   ],
   "source": [
    "schmidt_df = pd.DataFrame(schmidt_simulation)\n",
    "schmidt_df.describe()"
   ],
   "metadata": {
    "collapsed": false,
    "pycharm": {
     "name": "#%%\n"
    }
   }
  },
  {
   "cell_type": "code",
   "execution_count": 5,
   "outputs": [
    {
     "data": {
      "text/plain": "1    0.33231\n2    0.50178\n3    0.16591\ndtype: float64"
     },
     "execution_count": 5,
     "metadata": {},
     "output_type": "execute_result"
    }
   ],
   "source": [
    "schmidt_df.value_counts().sort_index() / number_of_throws\n"
   ],
   "metadata": {
    "collapsed": false,
    "pycharm": {
     "name": "#%%\n"
    }
   }
  },
  {
   "cell_type": "markdown",
   "source": [
    "### Professorin Müllers Würfel"
   ],
   "metadata": {
    "collapsed": false,
    "pycharm": {
     "name": "#%% md\n"
    }
   }
  },
  {
   "cell_type": "code",
   "execution_count": 6,
   "outputs": [
    {
     "data": {
      "text/plain": "                   0\ncount  100000.000000\nmean        3.500370\nstd         0.956174\nmin         2.000000\n25%         3.000000\n50%         3.000000\n75%         4.000000\nmax         5.000000",
      "text/html": "<div>\n<style scoped>\n    .dataframe tbody tr th:only-of-type {\n        vertical-align: middle;\n    }\n\n    .dataframe tbody tr th {\n        vertical-align: top;\n    }\n\n    .dataframe thead th {\n        text-align: right;\n    }\n</style>\n<table border=\"1\" class=\"dataframe\">\n  <thead>\n    <tr style=\"text-align: right;\">\n      <th></th>\n      <th>0</th>\n    </tr>\n  </thead>\n  <tbody>\n    <tr>\n      <th>count</th>\n      <td>100000.000000</td>\n    </tr>\n    <tr>\n      <th>mean</th>\n      <td>3.500370</td>\n    </tr>\n    <tr>\n      <th>std</th>\n      <td>0.956174</td>\n    </tr>\n    <tr>\n      <th>min</th>\n      <td>2.000000</td>\n    </tr>\n    <tr>\n      <th>25%</th>\n      <td>3.000000</td>\n    </tr>\n    <tr>\n      <th>50%</th>\n      <td>3.000000</td>\n    </tr>\n    <tr>\n      <th>75%</th>\n      <td>4.000000</td>\n    </tr>\n    <tr>\n      <th>max</th>\n      <td>5.000000</td>\n    </tr>\n  </tbody>\n</table>\n</div>"
     },
     "execution_count": 6,
     "metadata": {},
     "output_type": "execute_result"
    }
   ],
   "source": [
    "mueller_df = pd.DataFrame(mueller_simulation)\n",
    "mueller_df.describe()"
   ],
   "metadata": {
    "collapsed": false,
    "pycharm": {
     "name": "#%%\n"
    }
   }
  },
  {
   "cell_type": "code",
   "execution_count": 7,
   "outputs": [
    {
     "data": {
      "text/plain": "2    0.16537\n3    0.33565\n4    0.33222\n5    0.16676\ndtype: float64"
     },
     "execution_count": 7,
     "metadata": {},
     "output_type": "execute_result"
    }
   ],
   "source": [
    "mueller_df.value_counts().sort_index() / number_of_throws"
   ],
   "metadata": {
    "collapsed": false,
    "pycharm": {
     "name": "#%%\n"
    }
   }
  },
  {
   "cell_type": "code",
   "execution_count": 8,
   "outputs": [
    {
     "data": {
      "text/plain": "<Figure size 864x432 with 2 Axes>",
      "image/png": "[encoded data removed]"
     },
     "metadata": {},
     "output_type": "display_data"
    }
   ],
   "source": [
    "f = plt.figure(figsize=(12, 6))\n",
    "gs = f.add_gridspec(1, 2)\n",
    "\n",
    "# Schmidt simulation\n",
    "ax = f.add_subplot(gs[0, 0])\n",
    "hist = sns.histplot(x=schmidt_simulation, stat='probability', ax=ax, discrete=True)\n",
    "hist.set(ylabel=\"Wahrscheinlichkeit\", xlabel=\"Note\", title=\"Prof. Schmidts Klausurwürfel\",\n",
    "         xlim=(0.25, max(schmidt_dice.keys())+0.75), ylim=(0,1))\n",
    "\n",
    "# Mueller simulation\n",
    "ax = f.add_subplot(gs[0, 1])\n",
    "hist = sns.histplot(x=mueller_simulation, stat='probability', ax=ax, discrete=True)\n",
    "hist.set(ylabel=\"\", xlabel=\"Note\", title=\"Prof. Müllers Klausurwürfel\",\n",
    "         xlim=(0.25, max(mueller_dice.keys())+0.75), ylim=(0,1))\n",
    "\n",
    "plt.show()"
   ],
   "metadata": {
    "collapsed": false,
    "pycharm": {
     "name": "#%%\n"
    }
   }
  },
  {
   "cell_type": "markdown",
   "source": [
    "## 2. Eigener Klausurwürfel"
   ],
   "metadata": {
    "collapsed": false,
    "pycharm": {
     "name": "#%% md\n"
    }
   }
  },
  {
   "cell_type": "code",
   "execution_count": 9,
   "outputs": [],
   "source": [
    "def throw_own_dice(n=1):\n",
    "    marks = [\n",
    "        1.0, 1.3, 1.5, 1.7,\n",
    "        2.0, 2.3, 2.5, 2.7,\n",
    "        3.0, 3.3, 3.5, 3.7,\n",
    "        4.0, 4.3, 4.5, 4.7,\n",
    "        5.0,\n",
    "    ]\n",
    "\n",
    "    dice_throws = []\n",
    "    for i in range(n):\n",
    "        while True:\n",
    "            try:\n",
    "                random_index = np.random.poisson(4)\n",
    "                dice_throws.append(marks[random_index])\n",
    "                break\n",
    "            except IndexError:\n",
    "                pass\n",
    "\n",
    "    return dice_throws"
   ],
   "metadata": {
    "collapsed": false,
    "pycharm": {
     "name": "#%%\n"
    }
   }
  },
  {
   "cell_type": "code",
   "execution_count": 10,
   "outputs": [],
   "source": [
    "own_simulation = np.sort(throw_own_dice(number_of_throws))"
   ],
   "metadata": {
    "collapsed": false,
    "pycharm": {
     "name": "#%%\n"
    }
   }
  },
  {
   "cell_type": "code",
   "execution_count": 11,
   "outputs": [
    {
     "data": {
      "text/plain": "                   0\ncount  100000.000000\nmean        1.999315\nstd         0.500393\nmin         1.000000\n25%         1.700000\n50%         2.000000\n75%         2.300000\nmax         4.500000",
      "text/html": "<div>\n<style scoped>\n    .dataframe tbody tr th:only-of-type {\n        vertical-align: middle;\n    }\n\n    .dataframe tbody tr th {\n        vertical-align: top;\n    }\n\n    .dataframe thead th {\n        text-align: right;\n    }\n</style>\n<table border=\"1\" class=\"dataframe\">\n  <thead>\n    <tr style=\"text-align: right;\">\n      <th></th>\n      <th>0</th>\n    </tr>\n  </thead>\n  <tbody>\n    <tr>\n      <th>count</th>\n      <td>100000.000000</td>\n    </tr>\n    <tr>\n      <th>mean</th>\n      <td>1.999315</td>\n    </tr>\n    <tr>\n      <th>std</th>\n      <td>0.500393</td>\n    </tr>\n    <tr>\n      <th>min</th>\n      <td>1.000000</td>\n    </tr>\n    <tr>\n      <th>25%</th>\n      <td>1.700000</td>\n    </tr>\n    <tr>\n      <th>50%</th>\n      <td>2.000000</td>\n    </tr>\n    <tr>\n      <th>75%</th>\n      <td>2.300000</td>\n    </tr>\n    <tr>\n      <th>max</th>\n      <td>4.500000</td>\n    </tr>\n  </tbody>\n</table>\n</div>"
     },
     "execution_count": 11,
     "metadata": {},
     "output_type": "execute_result"
    }
   ],
   "source": [
    "own_df = pd.DataFrame(own_simulation)\n",
    "own_df.describe()"
   ],
   "metadata": {
    "collapsed": false,
    "pycharm": {
     "name": "#%%\n"
    }
   }
  },
  {
   "cell_type": "code",
   "execution_count": 12,
   "outputs": [
    {
     "data": {
      "text/plain": "1.0    0.01789\n1.3    0.07318\n1.5    0.14490\n1.7    0.19846\n2.0    0.19424\n2.3    0.15753\n2.5    0.10354\n2.7    0.05934\n3.0    0.02979\n3.3    0.01306\n3.5    0.00511\n3.7    0.00202\n4.0    0.00065\n4.3    0.00020\n4.5    0.00009\ndtype: float64"
     },
     "execution_count": 12,
     "metadata": {},
     "output_type": "execute_result"
    }
   ],
   "source": [
    "own_df.value_counts().sort_index() / number_of_throws"
   ],
   "metadata": {
    "collapsed": false,
    "pycharm": {
     "name": "#%%\n"
    }
   }
  },
  {
   "cell_type": "code",
   "execution_count": 13,
   "outputs": [
    {
     "data": {
      "text/plain": "<Figure size 864x432 with 1 Axes>",
      "image/png": "[encoded data removed]"
     },
     "metadata": {},
     "output_type": "display_data"
    }
   ],
   "source": [
    "f = plt.figure(figsize=(12, 6))\n",
    "\n",
    "own_simulation = [str(mark) for mark in own_simulation]\n",
    "\n",
    "hist = sns.histplot(x=own_simulation, stat='probability')\n",
    "hist.set(ylabel=\"Wahrscheinlichkeit\", xlabel=\"Note\", title=\"Eigener Klausurwürfel\")\n",
    "\n",
    "plt.show()"
   ],
   "metadata": {
    "collapsed": false,
    "pycharm": {
     "name": "#%%\n"
    }
   }
  }
 ],
 "metadata": {
  "kernelspec": {
   "display_name": "Python 3",
   "language": "python",
   "name": "python3"
  },
  "language_info": {
   "codemirror_mode": {
    "name": "ipython",
    "version": 2
   },
   "file_extension": ".py",
   "mimetype": "text/x-python",
   "name": "python",
   "nbconvert_exporter": "python",
   "pygments_lexer": "ipython2",
   "version": "2.7.6"
  }
 },
 "nbformat": 4,
 "nbformat_minor": 0
}