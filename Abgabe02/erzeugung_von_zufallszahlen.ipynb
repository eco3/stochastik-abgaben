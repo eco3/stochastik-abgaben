{
 "cells": [
  {
   "cell_type": "markdown",
   "source": [
    "# Erzeugung von Zufallszahlen\n",
    "## 1. Klausurwürfel von Professorin Müller und Professor Schmidt"
   ],
   "metadata": {
    "collapsed": false
   }
  },
  {
   "cell_type": "code",
   "execution_count": 1,
   "outputs": [],
   "source": [
    "import numpy as np\n",
    "import matplotlib.pyplot as plt\n",
    "import seaborn as sns\n",
    "import pandas as pd\n",
    "\n",
    "sns.set_theme(style=\"darkgrid\")"
   ],
   "metadata": {
    "collapsed": false,
    "pycharm": {
     "name": "#%%\n"
    }
   }
  },
  {
   "cell_type": "code",
   "execution_count": 2,
   "outputs": [],
   "source": [
    "def throw_dice(dice, n=1):\n",
    "    dice_values = list(dice.keys())\n",
    "    probabilities = list(dice.values())\n",
    "\n",
    "    dice_throws = []\n",
    "\n",
    "    for i in np.random.uniform(0, 1, n):\n",
    "        dice_throws.append(dice_values[np.argmax(np.cumsum(probabilities) >= i)])\n",
    "\n",
    "    return dice_throws"
   ],
   "metadata": {
    "collapsed": false,
    "pycharm": {
     "name": "#%%\n"
    }
   }
  },
  {
   "cell_type": "code",
   "execution_count": 3,
   "outputs": [],
   "source": [
    "schmidt_dice = {\n",
    "    1: 2/6,\n",
    "    2: 3/6,\n",
    "    3: 1/6,\n",
    "    4: 0,\n",
    "    5: 0\n",
    "}\n",
    "\n",
    "mueller_dice = {\n",
    "    1: 0,\n",
    "    2: 1/6,\n",
    "    3: 2/6,\n",
    "    4: 2/6,\n",
    "    5: 1/6\n",
    "}\n",
    "\n",
    "number_of_throws = 100000\n",
    "\n",
    "mueller_simulation = np.sort(throw_dice(dice=mueller_dice, n=number_of_throws))\n",
    "schmidt_simulation = np.sort(throw_dice(dice=schmidt_dice, n=number_of_throws))"
   ],
   "metadata": {
    "collapsed": false,
    "pycharm": {
     "name": "#%%\n"
    }
   }
  },
  {
   "cell_type": "markdown",
   "source": [
    "### Professor Schmidts Würfel"
   ],
   "metadata": {
    "collapsed": false
   }
  },
  {
   "cell_type": "code",
   "execution_count": 4,
   "outputs": [
    {
     "data": {
      "text/plain": "                   0\ncount  100000.000000\nmean        1.830640\nstd         0.685508\nmin         1.000000\n25%         1.000000\n50%         2.000000\n75%         2.000000\nmax         3.000000",
      "text/html": "<div>\n<style scoped>\n    .dataframe tbody tr th:only-of-type {\n        vertical-align: middle;\n    }\n\n    .dataframe tbody tr th {\n        vertical-align: top;\n    }\n\n    .dataframe thead th {\n        text-align: right;\n    }\n</style>\n<table border=\"1\" class=\"dataframe\">\n  <thead>\n    <tr style=\"text-align: right;\">\n      <th></th>\n      <th>0</th>\n    </tr>\n  </thead>\n  <tbody>\n    <tr>\n      <th>count</th>\n      <td>100000.000000</td>\n    </tr>\n    <tr>\n      <th>mean</th>\n      <td>1.830640</td>\n    </tr>\n    <tr>\n      <th>std</th>\n      <td>0.685508</td>\n    </tr>\n    <tr>\n      <th>min</th>\n      <td>1.000000</td>\n    </tr>\n    <tr>\n      <th>25%</th>\n      <td>1.000000</td>\n    </tr>\n    <tr>\n      <th>50%</th>\n      <td>2.000000</td>\n    </tr>\n    <tr>\n      <th>75%</th>\n      <td>2.000000</td>\n    </tr>\n    <tr>\n      <th>max</th>\n      <td>3.000000</td>\n    </tr>\n  </tbody>\n</table>\n</div>"
     },
     "execution_count": 4,
     "metadata": {},
     "output_type": "execute_result"
    }
   ],
   "source": [
    "schmidt_df = pd.DataFrame(schmidt_simulation)\n",
    "schmidt_df.describe()"
   ],
   "metadata": {
    "collapsed": false,
    "pycharm": {
     "name": "#%%\n"
    }
   }
  },
  {
   "cell_type": "code",
   "execution_count": 5,
   "outputs": [
    {
     "name": "stdout",
     "output_type": "stream",
     "text": [
      "Note - Wahrscheinlichkeit\n",
      "1 - 0.33398\n",
      "2 - 0.5014\n",
      "3 - 0.16462\n",
      "\n",
      "Summe der Wahrscheinlichkeiten: 1.0\n"
     ]
    }
   ],
   "source": [
    "def print_dice_probability(dice_dataframe, _number_of_throws):\n",
    "    print(\"Note - Wahrscheinlichkeit\")\n",
    "    for mark, probability in dice_dataframe.value_counts().sort_index().items():\n",
    "        print(f\"{mark[0]} - {probability/_number_of_throws}\")\n",
    "\n",
    "    print()\n",
    "    print(\"Summe der Wahrscheinlichkeiten:\", dice_dataframe.value_counts().sum()/_number_of_throws)\n",
    "\n",
    "print_dice_probability(schmidt_df, number_of_throws)"
   ],
   "metadata": {
    "collapsed": false,
    "pycharm": {
     "name": "#%%\n"
    }
   }
  },
  {
   "cell_type": "markdown",
   "source": [
    "### Professorin Müllers Würfel"
   ],
   "metadata": {
    "collapsed": false,
    "pycharm": {
     "name": "#%% md\n"
    }
   }
  },
  {
   "cell_type": "code",
   "execution_count": 6,
   "outputs": [
    {
     "data": {
      "text/plain": "                   0\ncount  100000.000000\nmean        3.500450\nstd         0.956488\nmin         2.000000\n25%         3.000000\n50%         4.000000\n75%         4.000000\nmax         5.000000",
      "text/html": "<div>\n<style scoped>\n    .dataframe tbody tr th:only-of-type {\n        vertical-align: middle;\n    }\n\n    .dataframe tbody tr th {\n        vertical-align: top;\n    }\n\n    .dataframe thead th {\n        text-align: right;\n    }\n</style>\n<table border=\"1\" class=\"dataframe\">\n  <thead>\n    <tr style=\"text-align: right;\">\n      <th></th>\n      <th>0</th>\n    </tr>\n  </thead>\n  <tbody>\n    <tr>\n      <th>count</th>\n      <td>100000.000000</td>\n    </tr>\n    <tr>\n      <th>mean</th>\n      <td>3.500450</td>\n    </tr>\n    <tr>\n      <th>std</th>\n      <td>0.956488</td>\n    </tr>\n    <tr>\n      <th>min</th>\n      <td>2.000000</td>\n    </tr>\n    <tr>\n      <th>25%</th>\n      <td>3.000000</td>\n    </tr>\n    <tr>\n      <th>50%</th>\n      <td>4.000000</td>\n    </tr>\n    <tr>\n      <th>75%</th>\n      <td>4.000000</td>\n    </tr>\n    <tr>\n      <th>max</th>\n      <td>5.000000</td>\n    </tr>\n  </tbody>\n</table>\n</div>"
     },
     "execution_count": 6,
     "metadata": {},
     "output_type": "execute_result"
    }
   ],
   "source": [
    "mueller_df = pd.DataFrame(mueller_simulation)\n",
    "mueller_df.describe()"
   ],
   "metadata": {
    "collapsed": false,
    "pycharm": {
     "name": "#%%\n"
    }
   }
  },
  {
   "cell_type": "code",
   "execution_count": 7,
   "outputs": [
    {
     "name": "stdout",
     "output_type": "stream",
     "text": [
      "Note - Wahrscheinlichkeit\n",
      "2 - 0.1663\n",
      "3 - 0.33308\n",
      "4 - 0.33449\n",
      "5 - 0.16613\n",
      "\n",
      "Summe der Wahrscheinlichkeiten: 1.0\n"
     ]
    }
   ],
   "source": [
    "print_dice_probability(mueller_df, number_of_throws)"
   ],
   "metadata": {
    "collapsed": false,
    "pycharm": {
     "name": "#%%\n"
    }
   }
  },
  {
   "cell_type": "code",
   "execution_count": 8,
   "outputs": [
    {
     "data": {
      "text/plain": "<Figure size 864x432 with 2 Axes>",
      "image/png": "[encoded data removed]"
     },
     "metadata": {},
     "output_type": "display_data"
    }
   ],
   "source": [
    "f = plt.figure(figsize=(12, 6))\n",
    "gs = f.add_gridspec(1, 2)\n",
    "\n",
    "# Schmidt simulation\n",
    "ax = f.add_subplot(gs[0, 0])\n",
    "hist = sns.histplot(x=schmidt_simulation, stat='probability', ax=ax, discrete=True)\n",
    "hist.set(ylabel=\"Wahrscheinlichkeit\", xlabel=\"Note\", title=\"Prof. Schmidts Klausurwürfel\",\n",
    "         xlim=(0.25, max(schmidt_dice.keys())+0.75), ylim=(0,1))\n",
    "\n",
    "# Mueller simulation\n",
    "ax = f.add_subplot(gs[0, 1])\n",
    "hist = sns.histplot(x=mueller_simulation, stat='probability', ax=ax, discrete=True)\n",
    "hist.set(ylabel=\"\", xlabel=\"Note\", title=\"Prof. Müllers Klausurwürfel\",\n",
    "         xlim=(0.25, max(mueller_dice.keys())+0.75), ylim=(0,1))\n",
    "\n",
    "plt.show()"
   ],
   "metadata": {
    "collapsed": false,
    "pycharm": {
     "name": "#%%\n"
    }
   }
  },
  {
   "cell_type": "markdown",
   "source": [
    "## 2. Eigener Klausurwürfel"
   ],
   "metadata": {
    "collapsed": false,
    "pycharm": {
     "name": "#%% md\n"
    }
   }
  },
  {
   "cell_type": "code",
   "execution_count": 9,
   "outputs": [],
   "source": [
    "def throw_own_dice(n=1):\n",
    "    marks = [\n",
    "        1.0, 1.3, 1.5, 1.7,\n",
    "        2.0, 2.3, 2.5, 2.7,\n",
    "        3.0, 3.3, 3.5, 3.7,\n",
    "        4.0, 4.3, 4.5, 4.7,\n",
    "        5.0,\n",
    "    ]\n",
    "\n",
    "    dice_throws = []\n",
    "    for i in range(n):\n",
    "        while True:\n",
    "            try:\n",
    "                random_index = np.random.poisson(4)\n",
    "                dice_throws.append(marks[random_index])\n",
    "                break\n",
    "            except IndexError:\n",
    "                pass\n",
    "\n",
    "    return dice_throws"
   ],
   "metadata": {
    "collapsed": false,
    "pycharm": {
     "name": "#%%\n"
    }
   }
  },
  {
   "cell_type": "code",
   "execution_count": 10,
   "outputs": [],
   "source": [
    "own_simulation = np.sort(throw_own_dice(number_of_throws))"
   ],
   "metadata": {
    "collapsed": false,
    "pycharm": {
     "name": "#%%\n"
    }
   }
  },
  {
   "cell_type": "code",
   "execution_count": 11,
   "outputs": [
    {
     "data": {
      "text/plain": "                   0\ncount  100000.000000\nmean        1.998541\nstd         0.501298\nmin         1.000000\n25%         1.700000\n50%         2.000000\n75%         2.300000\nmax         4.500000",
      "text/html": "<div>\n<style scoped>\n    .dataframe tbody tr th:only-of-type {\n        vertical-align: middle;\n    }\n\n    .dataframe tbody tr th {\n        vertical-align: top;\n    }\n\n    .dataframe thead th {\n        text-align: right;\n    }\n</style>\n<table border=\"1\" class=\"dataframe\">\n  <thead>\n    <tr style=\"text-align: right;\">\n      <th></th>\n      <th>0</th>\n    </tr>\n  </thead>\n  <tbody>\n    <tr>\n      <th>count</th>\n      <td>100000.000000</td>\n    </tr>\n    <tr>\n      <th>mean</th>\n      <td>1.998541</td>\n    </tr>\n    <tr>\n      <th>std</th>\n      <td>0.501298</td>\n    </tr>\n    <tr>\n      <th>min</th>\n      <td>1.000000</td>\n    </tr>\n    <tr>\n      <th>25%</th>\n      <td>1.700000</td>\n    </tr>\n    <tr>\n      <th>50%</th>\n      <td>2.000000</td>\n    </tr>\n    <tr>\n      <th>75%</th>\n      <td>2.300000</td>\n    </tr>\n    <tr>\n      <th>max</th>\n      <td>4.500000</td>\n    </tr>\n  </tbody>\n</table>\n</div>"
     },
     "execution_count": 11,
     "metadata": {},
     "output_type": "execute_result"
    }
   ],
   "source": [
    "own_df = pd.DataFrame(own_simulation)\n",
    "own_df.describe()"
   ],
   "metadata": {
    "collapsed": false,
    "pycharm": {
     "name": "#%%\n"
    }
   }
  },
  {
   "cell_type": "code",
   "execution_count": 12,
   "outputs": [
    {
     "name": "stdout",
     "output_type": "stream",
     "text": [
      "Note - Wahrscheinlichkeit\n",
      "1.0 - 0.01858\n",
      "1.3 - 0.07447\n",
      "1.5 - 0.14576\n",
      "1.7 - 0.19492\n",
      "2.0 - 0.19455\n",
      "2.3 - 0.15658\n",
      "2.5 - 0.1053\n",
      "2.7 - 0.05886\n",
      "3.0 - 0.02989\n",
      "3.3 - 0.013\n",
      "3.5 - 0.00531\n",
      "3.7 - 0.00198\n",
      "4.0 - 0.00063\n",
      "4.3 - 0.00013\n",
      "4.5 - 4e-05\n",
      "\n",
      "Summe der Wahrscheinlichkeiten: 1.0\n"
     ]
    }
   ],
   "source": [
    "print_dice_probability(own_df, number_of_throws)"
   ],
   "metadata": {
    "collapsed": false,
    "pycharm": {
     "name": "#%%\n"
    }
   }
  },
  {
   "cell_type": "code",
   "execution_count": 13,
   "outputs": [
    {
     "data": {
      "text/plain": "<Figure size 864x432 with 1 Axes>",
      "image/png": "[encoded data removed]"
     },
     "metadata": {},
     "output_type": "display_data"
    }
   ],
   "source": [
    "f = plt.figure(figsize=(12, 6))\n",
    "\n",
    "own_simulation = [str(mark) for mark in own_simulation]\n",
    "\n",
    "hist = sns.histplot(x=own_simulation, stat='probability')\n",
    "hist.set(ylabel=\"Wahrscheinlichkeit\", xlabel=\"Note\", title=\"Eigener Klausurwürfel\")\n",
    "\n",
    "plt.show()"
   ],
   "metadata": {
    "collapsed": false,
    "pycharm": {
     "name": "#%%\n"
    }
   }
  }
 ],
 "metadata": {
  "kernelspec": {
   "display_name": "Python 3",
   "language": "python",
   "name": "python3"
  },
  "language_info": {
   "codemirror_mode": {
    "name": "ipython",
    "version": 2
   },
   "file_extension": ".py",
   "mimetype": "text/x-python",
   "name": "python",
   "nbconvert_exporter": "python",
   "pygments_lexer": "ipython2",
   "version": "2.7.6"
  }
 },
 "nbformat": 4,
 "nbformat_minor": 0
}